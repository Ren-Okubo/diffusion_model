{
 "cells": [
  {
   "cell_type": "code",
   "execution_count": 28,
   "metadata": {},
   "outputs": [],
   "source": [
    "import argparse\n",
    "import sys\n",
    "import os\n",
    "import torch\n",
    "import yaml\n",
    "import wandb\n",
    "import random\n",
    "import datetime\n",
    "import pytz\n",
    "import numpy as np\n",
    "import matplotlib.pyplot as plt\n",
    "from torch_geometric.data import Data\n",
    "from torch_geometric.loader import DataLoader\n",
    "from EquivariantGraphNeuralNetwork import EquivariantGNN\n",
    "from diffusion_x_h import E3DiffusionProcess\n",
    "from split_to_train_and_test import SetUpData\n",
    "from DataPreprocessor import SpectrumCompressor\n",
    "from schedulefree import RAdamScheduleFree\n",
    "\n",
    "sys.path.append('parts/')\n",
    "from train_per_iretation import diffuse_as_batch, train_epoch, eval_epoch, generate, EarlyStopping\n",
    "from loss_calculation import kabsch_torch\n",
    "from def_for_main import load_model_state, evaluate_by_rmsd, noise_schedule_for_GammaNetwork, evaluate_by_rmsd_and_atom_type_eval, define_optimizer"
   ]
  },
  {
   "cell_type": "code",
   "execution_count": 19,
   "metadata": {},
   "outputs": [],
   "source": [
    "project_name = str(input('Enter the name of the project: '))\n",
    "run_id = str(input('Enter the run id: '))\n",
    "api = wandb.Api()\n",
    "run = api.run(f'{project_name}/{run_id}')\n",
    "prms = run.config\n"
   ]
  },
  {
   "cell_type": "code",
   "execution_count": 20,
   "metadata": {},
   "outputs": [],
   "source": [
    "#パラメータの設定\n",
    "#全体のパラメータ\n",
    "conditional=prms['conditional']\n",
    "seed = prms['seed']\n",
    "num_epochs = prms['num_epochs']\n",
    "batch_size = prms['batch_size']\n",
    "#optimizerのパラメータ\n",
    "lr = prms['lr']\n",
    "weight_decay = prms['weight_decay']\n",
    "optim_type = prms['optimizer']\n",
    "#early stoppingのパラメータ\n",
    "patience = prms['patience']\n",
    "#diffusion_processのパラメータ\n",
    "num_diffusion_timestep = prms['num_diffusion_timestep']\n",
    "noise_schedule = prms['noise_schedule']\n",
    "noise_precision = prms['noise_precision']\n",
    "power = prms['noise_schedule_power']\n",
    "#spectrum_compressorのパラメータ\n",
    "to_compress_spectrum = prms['to_compress_spectrum']\n",
    "compressor_hidden_dim = prms['compressor_hidden_dim']\n",
    "compressed_spectrum_size = prms['compressed_spectrum_size']\n",
    "#egnnのパラメータ\n",
    "L = prms['L']\n",
    "atom_type_size = prms['atom_type_size']\n",
    "spectrum_size = prms['spectrum_size']\n",
    "d_size = prms['d_size']\n",
    "t_size = prms['t_size']\n",
    "exO_size = prms['exO_size']\n",
    "if conditional:\n",
    "    if prms['to_compress_spectrum']:\n",
    "        h_size = atom_type_size + compressed_spectrum_size + t_size\n",
    "    else:\n",
    "        h_size = atom_type_size + spectrum_size + t_size\n",
    "else:\n",
    "    h_size = atom_type_size + t_size\n",
    "if prms['give_exO']:\n",
    "    h_size = h_size + exO_size\n",
    "x_size = prms['x_size']\n",
    "m_size = prms['m_size']   \n",
    "m_input_size = h_size + h_size + d_size\n",
    "m_hidden_size = prms['m_hidden_size']\n",
    "m_output_size = m_size\n",
    "h_input_size = h_size + m_size\n",
    "h_hidden_size = prms['h_hidden_size']\n",
    "h_output_size = h_size \n",
    "x_input_size = h_size + h_size + d_size\n",
    "x_hidden_size = prms['x_hidden_size']\n",
    "x_output_size = 1\n",
    "onehot_scaling_factor = prms['onehot_scaling_factor']"
   ]
  },
  {
   "cell_type": "code",
   "execution_count": 21,
   "metadata": {},
   "outputs": [],
   "source": [
    "diffusion_process = E3DiffusionProcess(s=noise_precision,power=power,num_diffusion_timestep=num_diffusion_timestep,noise_schedule=noise_schedule)\n",
    "egnn = EquivariantGNN(L,m_input_size,m_hidden_size,m_output_size,x_input_size,x_hidden_size,x_output_size,h_input_size,h_hidden_size,h_output_size)\n",
    "if to_compress_spectrum:\n",
    "    spectrum_compressor = SpectrumCompressor(spectrum_size,compressor_hidden_dim,compressed_spectrum_size)\n",
    "#使用するモデルをまとめた辞書nn_dictを定義\n",
    "if to_compress_spectrum:\n",
    "    nn_dict = {'egnn':egnn,'spectrum_compressor':spectrum_compressor}\n",
    "else:\n",
    "    nn_dict = {'egnn':egnn,'spectrum_compressor':None}"
   ]
  },
  {
   "cell_type": "code",
   "execution_count": 22,
   "metadata": {},
   "outputs": [
    {
     "data": {
      "text/plain": [
       "{'egnn': EquivariantGNN(\n",
       "   (egcl_list): ModuleList(\n",
       "     (0-4): 5 x EGCL()\n",
       "   )\n",
       " ),\n",
       " 'spectrum_compressor': None}"
      ]
     },
     "execution_count": 22,
     "metadata": {},
     "output_type": "execute_result"
    }
   ],
   "source": [
    "model_save_path = prms['model_save_path']\n",
    "load_model_state(nn_dict,model_save_path,prms)"
   ]
  },
  {
   "cell_type": "code",
   "execution_count": null,
   "metadata": {},
   "outputs": [
    {
     "data": {
      "text/html": [
       "Tracking run with wandb version 0.19.6"
      ],
      "text/plain": [
       "<IPython.core.display.HTML object>"
      ]
     },
     "metadata": {},
     "output_type": "display_data"
    },
    {
     "data": {
      "text/html": [
       "Run data is saved locally in <code>/jbod/rokubo/data/diffusion_model/wandb/run-20250218_165307-1am4buf5</code>"
      ],
      "text/plain": [
       "<IPython.core.display.HTML object>"
      ]
     },
     "metadata": {},
     "output_type": "display_data"
    },
    {
     "data": {
      "text/html": [
       "Syncing run <strong><a href='https://wandb.ai/utokyo-okubo-university-of-tokyo/amorphous/runs/1am4buf5' target=\"_blank\">3ang_sfffh8xn_SiO2.0_0</a></strong> to <a href='https://wandb.ai/utokyo-okubo-university-of-tokyo/amorphous' target=\"_blank\">Weights & Biases</a> (<a href='https://wandb.me/developer-guide' target=\"_blank\">docs</a>)<br>"
      ],
      "text/plain": [
       "<IPython.core.display.HTML object>"
      ]
     },
     "metadata": {},
     "output_type": "display_data"
    },
    {
     "data": {
      "text/html": [
       " View project at <a href='https://wandb.ai/utokyo-okubo-university-of-tokyo/amorphous' target=\"_blank\">https://wandb.ai/utokyo-okubo-university-of-tokyo/amorphous</a>"
      ],
      "text/plain": [
       "<IPython.core.display.HTML object>"
      ]
     },
     "metadata": {},
     "output_type": "display_data"
    },
    {
     "data": {
      "text/html": [
       " View run at <a href='https://wandb.ai/utokyo-okubo-university-of-tokyo/amorphous/runs/1am4buf5' target=\"_blank\">https://wandb.ai/utokyo-okubo-university-of-tokyo/amorphous/runs/1am4buf5</a>"
      ],
      "text/plain": [
       "<IPython.core.display.HTML object>"
      ]
     },
     "metadata": {},
     "output_type": "display_data"
    },
    {
     "name": "stderr",
     "output_type": "stream",
     "text": [
      "/tmp/ipykernel_12549/2334357041.py:5: FutureWarning: You are using `torch.load` with `weights_only=False` (the current default value), which uses the default pickle module implicitly. It is possible to construct malicious pickle data which will execute arbitrary code during unpickling (See https://github.com/pytorch/pytorch/blob/main/SECURITY.md#untrusted-models for more details). In a future release, the default value for `weights_only` will be flipped to `True`. This limits the functions that could be executed during unpickling. Arbitrary objects will no longer be allowed to be loaded via this mode unless they are explicitly allowlisted by the user via `torch.serialization.add_safe_globals`. We recommend you start setting `weights_only=True` for any use case where you don't have full control of the loaded file. Please open an issue on GitHub for any issues related to this experimental feature.\n",
      "  dataset = torch.load(dataset_path)\n",
      "100%|██████████| 144/144 [1:23:08<00:00, 34.64s/it]\n"
     ]
    },
    {
     "name": "stdout",
     "output_type": "stream",
     "text": [
      "The original graph has been saved.\n",
      "The generated graph has been saved.\n"
     ]
    },
    {
     "data": {
      "text/html": [],
      "text/plain": [
       "<IPython.core.display.HTML object>"
      ]
     },
     "metadata": {},
     "output_type": "display_data"
    },
    {
     "data": {
      "text/html": [
       " View run <strong style=\"color:#cdcd00\">3ang_sfffh8xn_SiO2.0_0</strong> at: <a href='https://wandb.ai/utokyo-okubo-university-of-tokyo/amorphous/runs/1am4buf5' target=\"_blank\">https://wandb.ai/utokyo-okubo-university-of-tokyo/amorphous/runs/1am4buf5</a><br> View project at: <a href='https://wandb.ai/utokyo-okubo-university-of-tokyo/amorphous' target=\"_blank\">https://wandb.ai/utokyo-okubo-university-of-tokyo/amorphous</a><br>Synced 5 W&B file(s), 0 media file(s), 0 artifact file(s) and 0 other file(s)"
      ],
      "text/plain": [
       "<IPython.core.display.HTML object>"
      ]
     },
     "metadata": {},
     "output_type": "display_data"
    },
    {
     "data": {
      "text/html": [
       "Find logs at: <code>./wandb/run-20250218_165307-1am4buf5/logs</code>"
      ],
      "text/plain": [
       "<IPython.core.display.HTML object>"
      ]
     },
     "metadata": {},
     "output_type": "display_data"
    }
   ],
   "source": [
    "project = 'amorphous'\n",
    "run_name = str(input(f'Enter the run name ({run_id}): '))\n",
    "run = wandb.init(project=project,name=run_name,config=prms)\n",
    "dataset_path = str(input('Enter the path of the dataset: '))\n",
    "dataset = torch.load(dataset_path)\n",
    "wandb.config.update({'amorphous_dataset_path': dataset_path})\n",
    "torch.set_default_tensor_type(torch.cuda.FloatTensor)\n",
    "original_graph_list, generated_graph_list = generate(nn_dict,dataset,prms,diffusion_process)\n",
    "generated_graph_save_path = os.path.join(wandb.run.dir,'generated_graph.pt')\n",
    "original_graph_save_path = os.path.join(wandb.run.dir,'original_graph.pt')\n",
    "torch.save(generated_graph_list,generated_graph_save_path)\n",
    "torch.save(original_graph_list,original_graph_save_path)\n",
    "wandb.config.update({'original_graph_save_path': original_graph_save_path},allow_val_change=True)\n",
    "print('The original graph has been saved.')\n",
    "wandb.config.update({'generated_graph_save_path': generated_graph_save_path},allow_val_change=True)\n",
    "print('The generated graph has been saved.')\n",
    "original_graph_list = torch.load(original_graph_save_path)\n",
    "generated_graph_list = torch.load(generated_graph_save_path)\n",
    "Si_tensor = torch.tensor([0,1],dtype=torch.long)\n",
    "O_tensor = torch.tensor([1,0],dtype=torch.long)\n",
    "density_O_original = []\n",
    "density_O_generated = []\n",
    "for i in range(len(original_graph_list)):\n",
    "    num_O = 0\n",
    "    original_graph = original_graph_list[i]\n",
    "    generated_graph = generated_graph_list[i][-1]\n",
    "    for j in range(original_graph.x.shape[0]):\n",
    "        if torch.equal(original_graph.x[j],O_tensor):\n",
    "            num_O += 1\n",
    "        elif torch.equal(original_graph.x[j],Si_tensor):\n",
    "            pass\n",
    "        else:\n",
    "            print('Error')\n",
    "    density_O_original.append(num_O/original_graph.x.shape[0])\n",
    "    num_O = 0\n",
    "    for j in range(generated_graph.x.shape[0]):\n",
    "        if torch.equal(generated_graph.x[j],O_tensor):\n",
    "            num_O += 1\n",
    "        elif torch.equal(generated_graph.x[j],Si_tensor):\n",
    "            pass\n",
    "        else:\n",
    "            print('Error')\n",
    "    density_O_generated.append(num_O/generated_graph.x.shape[0])\n",
    "fig, ax = plt.subplots()\n",
    "ax.plot([0,1],[0,1],linestyle='-',color='red')\n",
    "ax.plot(density_O_original,density_O_generated,linestyle='None',marker='o')\n",
    "ax.set_xlabel('density of O in original')\n",
    "ax.set_ylabel('density of O in generated')\n",
    "ax.set_title('density of O in original and generated')\n",
    "ax.set_xlim(0,1)\n",
    "ax.set_ylim(0,1)\n",
    "plt.text(0.05, 0.95, f'accuracy: {sum([1 for i in range(len(density_O_original)) if abs(density_O_original[i]-density_O_generated[i])==0])/len(density_O_original)}', \n",
    "         transform=plt.gca().transAxes, fontsize=12, verticalalignment='top')\n",
    "wandb.log({'atom_type_eval':wandb.Image(fig)})\n",
    "plt.close()\n",
    "\n",
    "wandb.finish()\n"
   ]
  },
  {
   "cell_type": "code",
   "execution_count": 34,
   "metadata": {},
   "outputs": [
    {
     "data": {
      "text/html": [
       "Tracking run with wandb version 0.19.6"
      ],
      "text/plain": [
       "<IPython.core.display.HTML object>"
      ]
     },
     "metadata": {},
     "output_type": "display_data"
    },
    {
     "data": {
      "text/html": [
       "Run data is saved locally in <code>/jbod/rokubo/data/diffusion_model/wandb/run-20250219_105042-1am4buf5</code>"
      ],
      "text/plain": [
       "<IPython.core.display.HTML object>"
      ]
     },
     "metadata": {},
     "output_type": "display_data"
    },
    {
     "data": {
      "text/html": [
       "Resuming run <strong><a href='https://wandb.ai/utokyo-okubo-university-of-tokyo/amorphous/runs/1am4buf5' target=\"_blank\">3ang_sfffh8xn_SiO2.0_0</a></strong> to <a href='https://wandb.ai/utokyo-okubo-university-of-tokyo/amorphous' target=\"_blank\">Weights & Biases</a> (<a href='https://wandb.me/developer-guide' target=\"_blank\">docs</a>)<br>"
      ],
      "text/plain": [
       "<IPython.core.display.HTML object>"
      ]
     },
     "metadata": {},
     "output_type": "display_data"
    },
    {
     "data": {
      "text/html": [
       " View project at <a href='https://wandb.ai/utokyo-okubo-university-of-tokyo/amorphous' target=\"_blank\">https://wandb.ai/utokyo-okubo-university-of-tokyo/amorphous</a>"
      ],
      "text/plain": [
       "<IPython.core.display.HTML object>"
      ]
     },
     "metadata": {},
     "output_type": "display_data"
    },
    {
     "data": {
      "text/html": [
       " View run at <a href='https://wandb.ai/utokyo-okubo-university-of-tokyo/amorphous/runs/1am4buf5' target=\"_blank\">https://wandb.ai/utokyo-okubo-university-of-tokyo/amorphous/runs/1am4buf5</a>"
      ],
      "text/plain": [
       "<IPython.core.display.HTML object>"
      ]
     },
     "metadata": {},
     "output_type": "display_data"
    },
    {
     "name": "stderr",
     "output_type": "stream",
     "text": [
      "/tmp/ipykernel_12549/231586246.py:6: FutureWarning: You are using `torch.load` with `weights_only=False` (the current default value), which uses the default pickle module implicitly. It is possible to construct malicious pickle data which will execute arbitrary code during unpickling (See https://github.com/pytorch/pytorch/blob/main/SECURITY.md#untrusted-models for more details). In a future release, the default value for `weights_only` will be flipped to `True`. This limits the functions that could be executed during unpickling. Arbitrary objects will no longer be allowed to be loaded via this mode unless they are explicitly allowlisted by the user via `torch.serialization.add_safe_globals`. We recommend you start setting `weights_only=True` for any use case where you don't have full control of the loaded file. Please open an issue on GitHub for any issues related to this experimental feature.\n",
      "  original_graph_list = torch.load(original_graph_save_path)\n",
      "/tmp/ipykernel_12549/231586246.py:7: FutureWarning: You are using `torch.load` with `weights_only=False` (the current default value), which uses the default pickle module implicitly. It is possible to construct malicious pickle data which will execute arbitrary code during unpickling (See https://github.com/pytorch/pytorch/blob/main/SECURITY.md#untrusted-models for more details). In a future release, the default value for `weights_only` will be flipped to `True`. This limits the functions that could be executed during unpickling. Arbitrary objects will no longer be allowed to be loaded via this mode unless they are explicitly allowlisted by the user via `torch.serialization.add_safe_globals`. We recommend you start setting `weights_only=True` for any use case where you don't have full control of the loaded file. Please open an issue on GitHub for any issues related to this experimental feature.\n",
      "  generated_graph_list = torch.load(generated_graph_save_path)\n"
     ]
    },
    {
     "data": {
      "text/html": [],
      "text/plain": [
       "<IPython.core.display.HTML object>"
      ]
     },
     "metadata": {},
     "output_type": "display_data"
    },
    {
     "data": {
      "text/html": [
       " View run <strong style=\"color:#cdcd00\">3ang_sfffh8xn_SiO2.0_0</strong> at: <a href='https://wandb.ai/utokyo-okubo-university-of-tokyo/amorphous/runs/1am4buf5' target=\"_blank\">https://wandb.ai/utokyo-okubo-university-of-tokyo/amorphous/runs/1am4buf5</a><br> View project at: <a href='https://wandb.ai/utokyo-okubo-university-of-tokyo/amorphous' target=\"_blank\">https://wandb.ai/utokyo-okubo-university-of-tokyo/amorphous</a><br>Synced 5 W&B file(s), 1 media file(s), 0 artifact file(s) and 0 other file(s)"
      ],
      "text/plain": [
       "<IPython.core.display.HTML object>"
      ]
     },
     "metadata": {},
     "output_type": "display_data"
    },
    {
     "data": {
      "text/html": [
       "Find logs at: <code>./wandb/run-20250219_105042-1am4buf5/logs</code>"
      ],
      "text/plain": [
       "<IPython.core.display.HTML object>"
      ]
     },
     "metadata": {},
     "output_type": "display_data"
    }
   ],
   "source": [
    "run = wandb.init(project='amorphous',id='1am4buf5',resume='must')\n",
    "config = run.config\n",
    "original_graph_save_path = config['original_graph_save_path']\n",
    "generated_graph_save_path = config['generated_graph_save_path']\n",
    "\n",
    "original_graph_list = torch.load(original_graph_save_path)\n",
    "generated_graph_list = torch.load(generated_graph_save_path)\n",
    "Si_tensor = torch.tensor([0,1],dtype=torch.long)\n",
    "O_tensor = torch.tensor([1,0],dtype=torch.long)\n",
    "density_O_original = []\n",
    "density_O_generated = []\n",
    "for i in range(len(original_graph_list)):\n",
    "    num_O = 0\n",
    "    original_graph = original_graph_list[i]\n",
    "    generated_graph = generated_graph_list[i][-1]\n",
    "    for j in range(original_graph.x.shape[0]):\n",
    "        if torch.equal(original_graph.x[j],O_tensor):\n",
    "            num_O += 1\n",
    "        elif torch.equal(original_graph.x[j],Si_tensor):\n",
    "            pass\n",
    "        else:\n",
    "            print('Error')\n",
    "    density_O_original.append(num_O/original_graph.x.shape[0])\n",
    "    num_O = 0\n",
    "    for j in range(generated_graph.x.shape[0]):\n",
    "        if torch.equal(generated_graph.x[j],O_tensor):\n",
    "            num_O += 1\n",
    "        elif torch.equal(generated_graph.x[j],Si_tensor):\n",
    "            pass\n",
    "        else:\n",
    "            print('Error')\n",
    "    density_O_generated.append(num_O/generated_graph.x.shape[0])\n",
    "fig, ax = plt.subplots()\n",
    "ax.plot([0,1],[0,1],linestyle='-',color='red')\n",
    "ax.plot(density_O_original,density_O_generated,linestyle='None',marker='o')\n",
    "ax.set_xlabel('density of O in original')\n",
    "ax.set_ylabel('density of O in generated')\n",
    "ax.set_title('density of O in original and generated')\n",
    "ax.set_xlim(0,1)\n",
    "ax.set_ylim(0,1)\n",
    "plt.text(0.05, 0.95, f'accuracy: {sum([1 for i in range(len(density_O_original)) if abs(density_O_original[i]-density_O_generated[i])==0])/len(density_O_original)}', \n",
    "         transform=plt.gca().transAxes, fontsize=12, verticalalignment='top')\n",
    "wandb.log({'atom_type_eval':wandb.Image(fig)})\n",
    "plt.close()\n",
    "\n",
    "wandb.finish()"
   ]
  }
 ],
 "metadata": {
  "kernelspec": {
   "display_name": "diffusion",
   "language": "python",
   "name": "python3"
  },
  "language_info": {
   "codemirror_mode": {
    "name": "ipython",
    "version": 3
   },
   "file_extension": ".py",
   "mimetype": "text/x-python",
   "name": "python",
   "nbconvert_exporter": "python",
   "pygments_lexer": "ipython3",
   "version": "3.8.20"
  }
 },
 "nbformat": 4,
 "nbformat_minor": 2
}
